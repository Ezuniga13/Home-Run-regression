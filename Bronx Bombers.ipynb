{
 "cells": [
  {
   "cell_type": "code",
   "execution_count": 1,
   "metadata": {},
   "outputs": [],
   "source": [
    "import pandas as pd\n",
    "import numpy as np\n",
    "import statsmodels.api as sm\n",
    "import statsmodels.formula.api as smf\n",
    "import patsy\n",
    "\n",
    "import seaborn as sns\n",
    "import matplotlib.pyplot as plt\n",
    "from sklearn.linear_model import LinearRegression\n",
    "from sklearn.linear_model import RidgeCV\n",
    "%matplotlib inline\n",
    "\n",
    "\n",
    "from bs4 import BeautifulSoup\n",
    "import requests\n",
    "import time, os\n",
    "from selenium import webdriver\n",
    "from selenium.webdriver.common.keys import Keys\n",
    "\n",
    "chromedriver = \"/Applications/chromedriver\" # path to the chromedriver executable\n",
    "os.environ[\"webdriver.chrome.driver\"] = chromedriver\n",
    "\n",
    "import pandas as pd\n"
   ]
  },
  {
   "cell_type": "code",
   "execution_count": 2,
   "metadata": {},
   "outputs": [],
   "source": [
    "def get_data(week_nums):\n",
    "    url = 'https://www.baseball-reference.com/teams/NYY/{}.shtml'\n",
    "    dfs = []\n",
    "    for week_num in week_nums:\n",
    "        file_url = url.format(week_num)\n",
    "        df = pd.read_html(file_url)[0]\n",
    "        df['YEAR'] = week_num\n",
    "        dfs.append(df)\n",
    "        \n",
    "    return pd.concat(dfs)\n",
    "        \n",
    "week_nums = range(1960,2019)\n",
    "yankees_df = get_data(week_nums)"
   ]
  },
  {
   "cell_type": "code",
   "execution_count": 3,
   "metadata": {},
   "outputs": [],
   "source": [
    "yankees_df.to_pickle(\"./dummy.pkl\")"
   ]
  },
  {
   "cell_type": "markdown",
   "metadata": {},
   "source": [
    "# Cleaning the pinstripes #"
   ]
  },
  {
   "cell_type": "code",
   "execution_count": 4,
   "metadata": {
    "scrolled": true
   },
   "outputs": [],
   "source": [
    "yankees_df.reset_index(inplace= True, drop = True)\n",
    "mask_1 = yankees_df['Age'] != 'Age'\n"
   ]
  },
  {
   "cell_type": "code",
   "execution_count": 5,
   "metadata": {},
   "outputs": [],
   "source": [
    "yankees_df = yankees_df[mask_1]\n"
   ]
  },
  {
   "cell_type": "code",
   "execution_count": 6,
   "metadata": {},
   "outputs": [],
   "source": [
    "mask_2 = yankees_df.Rk.isna()"
   ]
  },
  {
   "cell_type": "code",
   "execution_count": 7,
   "metadata": {},
   "outputs": [],
   "source": [
    "yankees_df = yankees_df[~mask_2]"
   ]
  },
  {
   "cell_type": "code",
   "execution_count": 8,
   "metadata": {},
   "outputs": [
    {
     "data": {
      "text/plain": [
       "P     1149\n",
       "C      185\n",
       "OF     131\n",
       "DH     128\n",
       "1B     127\n",
       "3B     116\n",
       "LF     110\n",
       "SS     106\n",
       "RF     101\n",
       "2B      96\n",
       "CF      85\n",
       "IF      70\n",
       "UT      61\n",
       "MI      20\n",
       "CI       9\n",
       "Name: Pos, dtype: int64"
      ]
     },
     "execution_count": 8,
     "metadata": {},
     "output_type": "execute_result"
    }
   ],
   "source": [
    "yankees_df.Pos.value_counts()"
   ]
  },
  {
   "cell_type": "code",
   "execution_count": 9,
   "metadata": {},
   "outputs": [
    {
     "data": {
      "text/plain": [
       "(2504, 29)"
      ]
     },
     "execution_count": 9,
     "metadata": {},
     "output_type": "execute_result"
    }
   ],
   "source": [
    "yankees_df.shape"
   ]
  },
  {
   "cell_type": "code",
   "execution_count": 10,
   "metadata": {},
   "outputs": [],
   "source": [
    "yankees_df = yankees_df[yankees_df['Pos'] != 'P']"
   ]
  },
  {
   "cell_type": "code",
   "execution_count": 11,
   "metadata": {},
   "outputs": [
    {
     "data": {
      "text/plain": [
       "(1355, 29)"
      ]
     },
     "execution_count": 11,
     "metadata": {},
     "output_type": "execute_result"
    }
   ],
   "source": [
    "yankees_df.shape"
   ]
  },
  {
   "cell_type": "code",
   "execution_count": 12,
   "metadata": {},
   "outputs": [],
   "source": [
    "\n",
    "yankees_df[['Age','G','PA','AB','R','H','2B','3B','HR','RBI','SB','CS','BB','SO','BA','OBP','SLG','OPS','OPS+',\n",
    "                 'TB','GDP','HBP','SH','SF','IBB']] = yankees_df[['Age','G','PA','AB','R','H','2B','3B','HR','RBI','SB','CS','BB','SO','BA','OBP','SLG','OPS','OPS+',\n",
    "                 'TB','GDP','HBP','SH','SF','IBB']].apply(pd.to_numeric)\n"
   ]
  },
  {
   "cell_type": "code",
   "execution_count": 13,
   "metadata": {},
   "outputs": [],
   "source": [
    "yankees_df.rename(columns={'2B':'D','3B':'T'},inplace= True)"
   ]
  },
  {
   "cell_type": "markdown",
   "metadata": {},
   "source": [
    "# Sorting, Grouping, Predict Column #"
   ]
  },
  {
   "cell_type": "code",
   "execution_count": 14,
   "metadata": {},
   "outputs": [],
   "source": [
    "yankees_df_train = yankees_df.sort_values(['Name','YEAR'])"
   ]
  },
  {
   "cell_type": "code",
   "execution_count": 15,
   "metadata": {},
   "outputs": [],
   "source": [
    "yankees_df_train['HR_PREDICT'] = yankees_df_train.groupby(['Name']).HR.shift(-1).to_list()"
   ]
  },
  {
   "cell_type": "code",
   "execution_count": 16,
   "metadata": {},
   "outputs": [
    {
     "data": {
      "text/html": [
       "<div>\n",
       "<style scoped>\n",
       "    .dataframe tbody tr th:only-of-type {\n",
       "        vertical-align: middle;\n",
       "    }\n",
       "\n",
       "    .dataframe tbody tr th {\n",
       "        vertical-align: top;\n",
       "    }\n",
       "\n",
       "    .dataframe thead th {\n",
       "        text-align: right;\n",
       "    }\n",
       "</style>\n",
       "<table border=\"1\" class=\"dataframe\">\n",
       "  <thead>\n",
       "    <tr style=\"text-align: right;\">\n",
       "      <th></th>\n",
       "      <th>Name</th>\n",
       "      <th>YEAR</th>\n",
       "      <th>HR</th>\n",
       "      <th>HR_PREDICT</th>\n",
       "      <th>Age</th>\n",
       "    </tr>\n",
       "  </thead>\n",
       "  <tbody>\n",
       "    <tr>\n",
       "      <th>1973</th>\n",
       "      <td>Aaron Boone</td>\n",
       "      <td>2003</td>\n",
       "      <td>6</td>\n",
       "      <td>NaN</td>\n",
       "      <td>30</td>\n",
       "    </tr>\n",
       "    <tr>\n",
       "      <th>2142</th>\n",
       "      <td>Aaron Guiel*</td>\n",
       "      <td>2006</td>\n",
       "      <td>4</td>\n",
       "      <td>NaN</td>\n",
       "      <td>33</td>\n",
       "    </tr>\n",
       "    <tr>\n",
       "      <th>2703</th>\n",
       "      <td>Aaron Hicks#</td>\n",
       "      <td>2016</td>\n",
       "      <td>8</td>\n",
       "      <td>15.0</td>\n",
       "      <td>26</td>\n",
       "    </tr>\n",
       "    <tr>\n",
       "      <th>2766</th>\n",
       "      <td>Aaron Hicks#</td>\n",
       "      <td>2017</td>\n",
       "      <td>15</td>\n",
       "      <td>27.0</td>\n",
       "      <td>27</td>\n",
       "    </tr>\n",
       "    <tr>\n",
       "      <th>2819</th>\n",
       "      <td>Aaron Hicks#</td>\n",
       "      <td>2018</td>\n",
       "      <td>27</td>\n",
       "      <td>NaN</td>\n",
       "      <td>28</td>\n",
       "    </tr>\n",
       "    <tr>\n",
       "      <th>...</th>\n",
       "      <td>...</td>\n",
       "      <td>...</td>\n",
       "      <td>...</td>\n",
       "      <td>...</td>\n",
       "      <td>...</td>\n",
       "    </tr>\n",
       "    <tr>\n",
       "      <th>97</th>\n",
       "      <td>Yogi Berra*</td>\n",
       "      <td>1962</td>\n",
       "      <td>10</td>\n",
       "      <td>8.0</td>\n",
       "      <td>37</td>\n",
       "    </tr>\n",
       "    <tr>\n",
       "      <th>139</th>\n",
       "      <td>Yogi Berra*</td>\n",
       "      <td>1963</td>\n",
       "      <td>8</td>\n",
       "      <td>NaN</td>\n",
       "      <td>38</td>\n",
       "    </tr>\n",
       "    <tr>\n",
       "      <th>2587</th>\n",
       "      <td>Zelous Wheeler</td>\n",
       "      <td>2014</td>\n",
       "      <td>2</td>\n",
       "      <td>NaN</td>\n",
       "      <td>27</td>\n",
       "    </tr>\n",
       "    <tr>\n",
       "      <th>2522</th>\n",
       "      <td>Zoilo Almonte#</td>\n",
       "      <td>2013</td>\n",
       "      <td>1</td>\n",
       "      <td>1.0</td>\n",
       "      <td>24</td>\n",
       "    </tr>\n",
       "    <tr>\n",
       "      <th>2588</th>\n",
       "      <td>Zoilo Almonte#</td>\n",
       "      <td>2014</td>\n",
       "      <td>1</td>\n",
       "      <td>NaN</td>\n",
       "      <td>25</td>\n",
       "    </tr>\n",
       "  </tbody>\n",
       "</table>\n",
       "<p>1355 rows × 5 columns</p>\n",
       "</div>"
      ],
      "text/plain": [
       "                Name  YEAR  HR  HR_PREDICT  Age\n",
       "1973     Aaron Boone  2003   6         NaN   30\n",
       "2142    Aaron Guiel*  2006   4         NaN   33\n",
       "2703    Aaron Hicks#  2016   8        15.0   26\n",
       "2766    Aaron Hicks#  2017  15        27.0   27\n",
       "2819    Aaron Hicks#  2018  27         NaN   28\n",
       "...              ...   ...  ..         ...  ...\n",
       "97       Yogi Berra*  1962  10         8.0   37\n",
       "139      Yogi Berra*  1963   8         NaN   38\n",
       "2587  Zelous Wheeler  2014   2         NaN   27\n",
       "2522  Zoilo Almonte#  2013   1         1.0   24\n",
       "2588  Zoilo Almonte#  2014   1         NaN   25\n",
       "\n",
       "[1355 rows x 5 columns]"
      ]
     },
     "execution_count": 16,
     "metadata": {},
     "output_type": "execute_result"
    }
   ],
   "source": [
    "yankees_df_train[['Name','YEAR','HR','HR_PREDICT', 'Age']]"
   ]
  },
  {
   "cell_type": "markdown",
   "metadata": {},
   "source": [
    "## more cleaning ##"
   ]
  },
  {
   "cell_type": "code",
   "execution_count": 17,
   "metadata": {},
   "outputs": [
    {
     "name": "stdout",
     "output_type": "stream",
     "text": [
      "<class 'pandas.core.frame.DataFrame'>\n",
      "Int64Index: 1355 entries, 1973 to 2588\n",
      "Data columns (total 30 columns):\n",
      " #   Column      Non-Null Count  Dtype  \n",
      "---  ------      --------------  -----  \n",
      " 0   Rk          1355 non-null   object \n",
      " 1   Pos         1345 non-null   object \n",
      " 2   Name        1355 non-null   object \n",
      " 3   Age         1355 non-null   int64  \n",
      " 4   G           1355 non-null   int64  \n",
      " 5   PA          1355 non-null   int64  \n",
      " 6   AB          1355 non-null   int64  \n",
      " 7   R           1355 non-null   int64  \n",
      " 8   H           1355 non-null   int64  \n",
      " 9   D           1355 non-null   int64  \n",
      " 10  T           1355 non-null   int64  \n",
      " 11  HR          1355 non-null   int64  \n",
      " 12  RBI         1355 non-null   int64  \n",
      " 13  SB          1355 non-null   int64  \n",
      " 14  CS          1355 non-null   int64  \n",
      " 15  BB          1355 non-null   int64  \n",
      " 16  SO          1355 non-null   int64  \n",
      " 17  BA          1343 non-null   float64\n",
      " 18  OBP         1343 non-null   float64\n",
      " 19  SLG         1343 non-null   float64\n",
      " 20  OPS         1343 non-null   float64\n",
      " 21  OPS+        1343 non-null   float64\n",
      " 22  TB          1355 non-null   int64  \n",
      " 23  GDP         1355 non-null   int64  \n",
      " 24  HBP         1355 non-null   int64  \n",
      " 25  SH          1355 non-null   int64  \n",
      " 26  SF          1355 non-null   int64  \n",
      " 27  IBB         1355 non-null   int64  \n",
      " 28  YEAR        1355 non-null   int64  \n",
      " 29  HR_PREDICT  818 non-null    float64\n",
      "dtypes: float64(6), int64(21), object(3)\n",
      "memory usage: 328.2+ KB\n"
     ]
    }
   ],
   "source": [
    "yankees_df_train.info()"
   ]
  },
  {
   "cell_type": "code",
   "execution_count": 18,
   "metadata": {},
   "outputs": [
    {
     "data": {
      "text/html": [
       "<div>\n",
       "<style scoped>\n",
       "    .dataframe tbody tr th:only-of-type {\n",
       "        vertical-align: middle;\n",
       "    }\n",
       "\n",
       "    .dataframe tbody tr th {\n",
       "        vertical-align: top;\n",
       "    }\n",
       "\n",
       "    .dataframe thead th {\n",
       "        text-align: right;\n",
       "    }\n",
       "</style>\n",
       "<table border=\"1\" class=\"dataframe\">\n",
       "  <thead>\n",
       "    <tr style=\"text-align: right;\">\n",
       "      <th></th>\n",
       "      <th>Rk</th>\n",
       "      <th>Pos</th>\n",
       "      <th>Name</th>\n",
       "      <th>Age</th>\n",
       "      <th>G</th>\n",
       "      <th>PA</th>\n",
       "      <th>AB</th>\n",
       "      <th>R</th>\n",
       "      <th>H</th>\n",
       "      <th>D</th>\n",
       "      <th>...</th>\n",
       "      <th>OPS</th>\n",
       "      <th>OPS+</th>\n",
       "      <th>TB</th>\n",
       "      <th>GDP</th>\n",
       "      <th>HBP</th>\n",
       "      <th>SH</th>\n",
       "      <th>SF</th>\n",
       "      <th>IBB</th>\n",
       "      <th>YEAR</th>\n",
       "      <th>HR_PREDICT</th>\n",
       "    </tr>\n",
       "  </thead>\n",
       "  <tbody>\n",
       "    <tr>\n",
       "      <th>316</th>\n",
       "      <td>24</td>\n",
       "      <td>NaN</td>\n",
       "      <td>Charlie Sands*</td>\n",
       "      <td>19</td>\n",
       "      <td>1</td>\n",
       "      <td>1</td>\n",
       "      <td>1</td>\n",
       "      <td>0</td>\n",
       "      <td>0</td>\n",
       "      <td>0</td>\n",
       "      <td>...</td>\n",
       "      <td>0.000</td>\n",
       "      <td>-100.0</td>\n",
       "      <td>0</td>\n",
       "      <td>0</td>\n",
       "      <td>0</td>\n",
       "      <td>0</td>\n",
       "      <td>0</td>\n",
       "      <td>0</td>\n",
       "      <td>1967</td>\n",
       "      <td>NaN</td>\n",
       "    </tr>\n",
       "    <tr>\n",
       "      <th>1270</th>\n",
       "      <td>23</td>\n",
       "      <td>NaN</td>\n",
       "      <td>Chris Chambliss*</td>\n",
       "      <td>39</td>\n",
       "      <td>1</td>\n",
       "      <td>1</td>\n",
       "      <td>1</td>\n",
       "      <td>0</td>\n",
       "      <td>0</td>\n",
       "      <td>0</td>\n",
       "      <td>...</td>\n",
       "      <td>0.000</td>\n",
       "      <td>-100.0</td>\n",
       "      <td>0</td>\n",
       "      <td>0</td>\n",
       "      <td>0</td>\n",
       "      <td>0</td>\n",
       "      <td>0</td>\n",
       "      <td>0</td>\n",
       "      <td>1988</td>\n",
       "      <td>NaN</td>\n",
       "    </tr>\n",
       "    <tr>\n",
       "      <th>793</th>\n",
       "      <td>20</td>\n",
       "      <td>NaN</td>\n",
       "      <td>Dell Alston*</td>\n",
       "      <td>25</td>\n",
       "      <td>3</td>\n",
       "      <td>3</td>\n",
       "      <td>3</td>\n",
       "      <td>0</td>\n",
       "      <td>0</td>\n",
       "      <td>0</td>\n",
       "      <td>...</td>\n",
       "      <td>0.000</td>\n",
       "      <td>-100.0</td>\n",
       "      <td>0</td>\n",
       "      <td>0</td>\n",
       "      <td>0</td>\n",
       "      <td>0</td>\n",
       "      <td>0</td>\n",
       "      <td>0</td>\n",
       "      <td>1978</td>\n",
       "      <td>NaN</td>\n",
       "    </tr>\n",
       "    <tr>\n",
       "      <th>526</th>\n",
       "      <td>18</td>\n",
       "      <td>NaN</td>\n",
       "      <td>Frank Tepedino*</td>\n",
       "      <td>24</td>\n",
       "      <td>8</td>\n",
       "      <td>8</td>\n",
       "      <td>8</td>\n",
       "      <td>0</td>\n",
       "      <td>0</td>\n",
       "      <td>0</td>\n",
       "      <td>...</td>\n",
       "      <td>0.000</td>\n",
       "      <td>-100.0</td>\n",
       "      <td>0</td>\n",
       "      <td>0</td>\n",
       "      <td>0</td>\n",
       "      <td>0</td>\n",
       "      <td>0</td>\n",
       "      <td>0</td>\n",
       "      <td>1972</td>\n",
       "      <td>NaN</td>\n",
       "    </tr>\n",
       "    <tr>\n",
       "      <th>2656</th>\n",
       "      <td>23</td>\n",
       "      <td>NaN</td>\n",
       "      <td>Gary Sanchez</td>\n",
       "      <td>22</td>\n",
       "      <td>2</td>\n",
       "      <td>2</td>\n",
       "      <td>2</td>\n",
       "      <td>0</td>\n",
       "      <td>0</td>\n",
       "      <td>0</td>\n",
       "      <td>...</td>\n",
       "      <td>0.000</td>\n",
       "      <td>-100.0</td>\n",
       "      <td>0</td>\n",
       "      <td>0</td>\n",
       "      <td>0</td>\n",
       "      <td>0</td>\n",
       "      <td>0</td>\n",
       "      <td>0</td>\n",
       "      <td>2015</td>\n",
       "      <td>20.0</td>\n",
       "    </tr>\n",
       "    <tr>\n",
       "      <th>60</th>\n",
       "      <td>16</td>\n",
       "      <td>NaN</td>\n",
       "      <td>Jesse Gonder*</td>\n",
       "      <td>25</td>\n",
       "      <td>15</td>\n",
       "      <td>15</td>\n",
       "      <td>12</td>\n",
       "      <td>2</td>\n",
       "      <td>4</td>\n",
       "      <td>1</td>\n",
       "      <td>...</td>\n",
       "      <td>0.883</td>\n",
       "      <td>144.0</td>\n",
       "      <td>5</td>\n",
       "      <td>1</td>\n",
       "      <td>0</td>\n",
       "      <td>0</td>\n",
       "      <td>0</td>\n",
       "      <td>1</td>\n",
       "      <td>1961</td>\n",
       "      <td>NaN</td>\n",
       "    </tr>\n",
       "    <tr>\n",
       "      <th>1221</th>\n",
       "      <td>27</td>\n",
       "      <td>NaN</td>\n",
       "      <td>Keith Hughes*</td>\n",
       "      <td>23</td>\n",
       "      <td>4</td>\n",
       "      <td>4</td>\n",
       "      <td>4</td>\n",
       "      <td>0</td>\n",
       "      <td>0</td>\n",
       "      <td>0</td>\n",
       "      <td>...</td>\n",
       "      <td>0.000</td>\n",
       "      <td>-100.0</td>\n",
       "      <td>0</td>\n",
       "      <td>0</td>\n",
       "      <td>0</td>\n",
       "      <td>0</td>\n",
       "      <td>0</td>\n",
       "      <td>0</td>\n",
       "      <td>1987</td>\n",
       "      <td>NaN</td>\n",
       "    </tr>\n",
       "    <tr>\n",
       "      <th>64</th>\n",
       "      <td>20</td>\n",
       "      <td>NaN</td>\n",
       "      <td>Lee Thomas*</td>\n",
       "      <td>25</td>\n",
       "      <td>2</td>\n",
       "      <td>2</td>\n",
       "      <td>2</td>\n",
       "      <td>0</td>\n",
       "      <td>1</td>\n",
       "      <td>0</td>\n",
       "      <td>...</td>\n",
       "      <td>1.000</td>\n",
       "      <td>175.0</td>\n",
       "      <td>1</td>\n",
       "      <td>0</td>\n",
       "      <td>0</td>\n",
       "      <td>0</td>\n",
       "      <td>0</td>\n",
       "      <td>0</td>\n",
       "      <td>1961</td>\n",
       "      <td>NaN</td>\n",
       "    </tr>\n",
       "    <tr>\n",
       "      <th>403</th>\n",
       "      <td>24</td>\n",
       "      <td>NaN</td>\n",
       "      <td>Nate Oliver</td>\n",
       "      <td>28</td>\n",
       "      <td>1</td>\n",
       "      <td>1</td>\n",
       "      <td>1</td>\n",
       "      <td>0</td>\n",
       "      <td>0</td>\n",
       "      <td>0</td>\n",
       "      <td>...</td>\n",
       "      <td>0.000</td>\n",
       "      <td>-100.0</td>\n",
       "      <td>0</td>\n",
       "      <td>0</td>\n",
       "      <td>0</td>\n",
       "      <td>0</td>\n",
       "      <td>0</td>\n",
       "      <td>0</td>\n",
       "      <td>1969</td>\n",
       "      <td>NaN</td>\n",
       "    </tr>\n",
       "    <tr>\n",
       "      <th>226</th>\n",
       "      <td>24</td>\n",
       "      <td>NaN</td>\n",
       "      <td>Pedro Gonzalez</td>\n",
       "      <td>27</td>\n",
       "      <td>7</td>\n",
       "      <td>6</td>\n",
       "      <td>5</td>\n",
       "      <td>0</td>\n",
       "      <td>2</td>\n",
       "      <td>1</td>\n",
       "      <td>...</td>\n",
       "      <td>1.000</td>\n",
       "      <td>182.0</td>\n",
       "      <td>3</td>\n",
       "      <td>0</td>\n",
       "      <td>0</td>\n",
       "      <td>1</td>\n",
       "      <td>0</td>\n",
       "      <td>0</td>\n",
       "      <td>1965</td>\n",
       "      <td>NaN</td>\n",
       "    </tr>\n",
       "  </tbody>\n",
       "</table>\n",
       "<p>10 rows × 30 columns</p>\n",
       "</div>"
      ],
      "text/plain": [
       "      Rk  Pos              Name  Age   G  PA  AB  R  H  D  ...    OPS   OPS+  \\\n",
       "316   24  NaN    Charlie Sands*   19   1   1   1  0  0  0  ...  0.000 -100.0   \n",
       "1270  23  NaN  Chris Chambliss*   39   1   1   1  0  0  0  ...  0.000 -100.0   \n",
       "793   20  NaN      Dell Alston*   25   3   3   3  0  0  0  ...  0.000 -100.0   \n",
       "526   18  NaN   Frank Tepedino*   24   8   8   8  0  0  0  ...  0.000 -100.0   \n",
       "2656  23  NaN      Gary Sanchez   22   2   2   2  0  0  0  ...  0.000 -100.0   \n",
       "60    16  NaN     Jesse Gonder*   25  15  15  12  2  4  1  ...  0.883  144.0   \n",
       "1221  27  NaN     Keith Hughes*   23   4   4   4  0  0  0  ...  0.000 -100.0   \n",
       "64    20  NaN       Lee Thomas*   25   2   2   2  0  1  0  ...  1.000  175.0   \n",
       "403   24  NaN       Nate Oliver   28   1   1   1  0  0  0  ...  0.000 -100.0   \n",
       "226   24  NaN    Pedro Gonzalez   27   7   6   5  0  2  1  ...  1.000  182.0   \n",
       "\n",
       "      TB  GDP  HBP  SH  SF  IBB  YEAR  HR_PREDICT  \n",
       "316    0    0    0   0   0    0  1967         NaN  \n",
       "1270   0    0    0   0   0    0  1988         NaN  \n",
       "793    0    0    0   0   0    0  1978         NaN  \n",
       "526    0    0    0   0   0    0  1972         NaN  \n",
       "2656   0    0    0   0   0    0  2015        20.0  \n",
       "60     5    1    0   0   0    1  1961         NaN  \n",
       "1221   0    0    0   0   0    0  1987         NaN  \n",
       "64     1    0    0   0   0    0  1961         NaN  \n",
       "403    0    0    0   0   0    0  1969         NaN  \n",
       "226    3    0    0   1   0    0  1965         NaN  \n",
       "\n",
       "[10 rows x 30 columns]"
      ]
     },
     "execution_count": 18,
     "metadata": {},
     "output_type": "execute_result"
    }
   ],
   "source": [
    "yankees_df_train[yankees_df_train.Pos.isnull()]"
   ]
  },
  {
   "cell_type": "markdown",
   "metadata": {},
   "source": [
    "## even more ##"
   ]
  },
  {
   "cell_type": "code",
   "execution_count": 19,
   "metadata": {},
   "outputs": [],
   "source": [
    "yankess_pinstripes_clean = yankees_df_train[~yankees_df_train.HR_PREDICT.isna()]"
   ]
  },
  {
   "cell_type": "code",
   "execution_count": 20,
   "metadata": {},
   "outputs": [
    {
     "data": {
      "text/plain": [
       "(818, 30)"
      ]
     },
     "execution_count": 20,
     "metadata": {},
     "output_type": "execute_result"
    }
   ],
   "source": [
    "yankess_pinstripes_clean.shape"
   ]
  },
  {
   "cell_type": "code",
   "execution_count": 21,
   "metadata": {},
   "outputs": [
    {
     "data": {
      "text/plain": [
       "1"
      ]
     },
     "execution_count": 21,
     "metadata": {},
     "output_type": "execute_result"
    }
   ],
   "source": [
    "yankess_pinstripes_clean.Pos.isnull().sum()"
   ]
  },
  {
   "cell_type": "code",
   "execution_count": 22,
   "metadata": {},
   "outputs": [
    {
     "name": "stdout",
     "output_type": "stream",
     "text": [
      "<class 'pandas.core.frame.DataFrame'>\n",
      "Int64Index: 818 entries, 2703 to 2522\n",
      "Data columns (total 30 columns):\n",
      " #   Column      Non-Null Count  Dtype  \n",
      "---  ------      --------------  -----  \n",
      " 0   Rk          818 non-null    object \n",
      " 1   Pos         817 non-null    object \n",
      " 2   Name        818 non-null    object \n",
      " 3   Age         818 non-null    int64  \n",
      " 4   G           818 non-null    int64  \n",
      " 5   PA          818 non-null    int64  \n",
      " 6   AB          818 non-null    int64  \n",
      " 7   R           818 non-null    int64  \n",
      " 8   H           818 non-null    int64  \n",
      " 9   D           818 non-null    int64  \n",
      " 10  T           818 non-null    int64  \n",
      " 11  HR          818 non-null    int64  \n",
      " 12  RBI         818 non-null    int64  \n",
      " 13  SB          818 non-null    int64  \n",
      " 14  CS          818 non-null    int64  \n",
      " 15  BB          818 non-null    int64  \n",
      " 16  SO          818 non-null    int64  \n",
      " 17  BA          816 non-null    float64\n",
      " 18  OBP         816 non-null    float64\n",
      " 19  SLG         816 non-null    float64\n",
      " 20  OPS         816 non-null    float64\n",
      " 21  OPS+        816 non-null    float64\n",
      " 22  TB          818 non-null    int64  \n",
      " 23  GDP         818 non-null    int64  \n",
      " 24  HBP         818 non-null    int64  \n",
      " 25  SH          818 non-null    int64  \n",
      " 26  SF          818 non-null    int64  \n",
      " 27  IBB         818 non-null    int64  \n",
      " 28  YEAR        818 non-null    int64  \n",
      " 29  HR_PREDICT  818 non-null    float64\n",
      "dtypes: float64(6), int64(21), object(3)\n",
      "memory usage: 198.1+ KB\n"
     ]
    }
   ],
   "source": [
    "yankess_pinstripes_clean.info()\n"
   ]
  },
  {
   "cell_type": "code",
   "execution_count": 23,
   "metadata": {},
   "outputs": [
    {
     "data": {
      "text/html": [
       "<div>\n",
       "<style scoped>\n",
       "    .dataframe tbody tr th:only-of-type {\n",
       "        vertical-align: middle;\n",
       "    }\n",
       "\n",
       "    .dataframe tbody tr th {\n",
       "        vertical-align: top;\n",
       "    }\n",
       "\n",
       "    .dataframe thead th {\n",
       "        text-align: right;\n",
       "    }\n",
       "</style>\n",
       "<table border=\"1\" class=\"dataframe\">\n",
       "  <thead>\n",
       "    <tr style=\"text-align: right;\">\n",
       "      <th></th>\n",
       "      <th>Rk</th>\n",
       "      <th>Pos</th>\n",
       "      <th>Name</th>\n",
       "      <th>Age</th>\n",
       "      <th>G</th>\n",
       "      <th>PA</th>\n",
       "      <th>AB</th>\n",
       "      <th>R</th>\n",
       "      <th>H</th>\n",
       "      <th>D</th>\n",
       "      <th>...</th>\n",
       "      <th>OPS</th>\n",
       "      <th>OPS+</th>\n",
       "      <th>TB</th>\n",
       "      <th>GDP</th>\n",
       "      <th>HBP</th>\n",
       "      <th>SH</th>\n",
       "      <th>SF</th>\n",
       "      <th>IBB</th>\n",
       "      <th>YEAR</th>\n",
       "      <th>HR_PREDICT</th>\n",
       "    </tr>\n",
       "  </thead>\n",
       "  <tbody>\n",
       "    <tr>\n",
       "      <th>2656</th>\n",
       "      <td>23</td>\n",
       "      <td>NaN</td>\n",
       "      <td>Gary Sanchez</td>\n",
       "      <td>22</td>\n",
       "      <td>2</td>\n",
       "      <td>2</td>\n",
       "      <td>2</td>\n",
       "      <td>0</td>\n",
       "      <td>0</td>\n",
       "      <td>0</td>\n",
       "      <td>...</td>\n",
       "      <td>0.0</td>\n",
       "      <td>-100.0</td>\n",
       "      <td>0</td>\n",
       "      <td>0</td>\n",
       "      <td>0</td>\n",
       "      <td>0</td>\n",
       "      <td>0</td>\n",
       "      <td>0</td>\n",
       "      <td>2015</td>\n",
       "      <td>20.0</td>\n",
       "    </tr>\n",
       "    <tr>\n",
       "      <th>105</th>\n",
       "      <td>18</td>\n",
       "      <td>3B</td>\n",
       "      <td>Jake Gibbs*</td>\n",
       "      <td>23</td>\n",
       "      <td>2</td>\n",
       "      <td>0</td>\n",
       "      <td>0</td>\n",
       "      <td>2</td>\n",
       "      <td>0</td>\n",
       "      <td>0</td>\n",
       "      <td>...</td>\n",
       "      <td>NaN</td>\n",
       "      <td>NaN</td>\n",
       "      <td>0</td>\n",
       "      <td>0</td>\n",
       "      <td>0</td>\n",
       "      <td>0</td>\n",
       "      <td>0</td>\n",
       "      <td>0</td>\n",
       "      <td>1962</td>\n",
       "      <td>0.0</td>\n",
       "    </tr>\n",
       "    <tr>\n",
       "      <th>1596</th>\n",
       "      <td>22</td>\n",
       "      <td>C</td>\n",
       "      <td>Jorge Posada#</td>\n",
       "      <td>24</td>\n",
       "      <td>1</td>\n",
       "      <td>0</td>\n",
       "      <td>0</td>\n",
       "      <td>0</td>\n",
       "      <td>0</td>\n",
       "      <td>0</td>\n",
       "      <td>...</td>\n",
       "      <td>NaN</td>\n",
       "      <td>NaN</td>\n",
       "      <td>0</td>\n",
       "      <td>0</td>\n",
       "      <td>0</td>\n",
       "      <td>0</td>\n",
       "      <td>0</td>\n",
       "      <td>0</td>\n",
       "      <td>1995</td>\n",
       "      <td>0.0</td>\n",
       "    </tr>\n",
       "  </tbody>\n",
       "</table>\n",
       "<p>3 rows × 30 columns</p>\n",
       "</div>"
      ],
      "text/plain": [
       "      Rk  Pos           Name  Age  G  PA  AB  R  H  D  ...  OPS   OPS+  TB  \\\n",
       "2656  23  NaN   Gary Sanchez   22  2   2   2  0  0  0  ...  0.0 -100.0   0   \n",
       "105   18   3B    Jake Gibbs*   23  2   0   0  2  0  0  ...  NaN    NaN   0   \n",
       "1596  22    C  Jorge Posada#   24  1   0   0  0  0  0  ...  NaN    NaN   0   \n",
       "\n",
       "      GDP  HBP  SH  SF  IBB  YEAR  HR_PREDICT  \n",
       "2656    0    0   0   0    0  2015        20.0  \n",
       "105     0    0   0   0    0  1962         0.0  \n",
       "1596    0    0   0   0    0  1995         0.0  \n",
       "\n",
       "[3 rows x 30 columns]"
      ]
     },
     "execution_count": 23,
     "metadata": {},
     "output_type": "execute_result"
    }
   ],
   "source": [
    "yankess_pinstripes_clean[yankess_pinstripes_clean.isnull().any(axis = 1)]"
   ]
  },
  {
   "cell_type": "code",
   "execution_count": 24,
   "metadata": {},
   "outputs": [
    {
     "name": "stderr",
     "output_type": "stream",
     "text": [
      "/Users/estebanzuniga/opt/anaconda3/lib/python3.7/site-packages/pandas/core/indexing.py:965: SettingWithCopyWarning: \n",
      "A value is trying to be set on a copy of a slice from a DataFrame.\n",
      "Try using .loc[row_indexer,col_indexer] = value instead\n",
      "\n",
      "See the caveats in the documentation: https://pandas.pydata.org/pandas-docs/stable/user_guide/indexing.html#returning-a-view-versus-a-copy\n",
      "  self.obj[item] = s\n"
     ]
    }
   ],
   "source": [
    "yankess_pinstripes_clean.loc[yankess_pinstripes_clean.Name == 'Gary Sanchez','Pos'] = \"C\""
   ]
  },
  {
   "cell_type": "code",
   "execution_count": 25,
   "metadata": {},
   "outputs": [
    {
     "name": "stderr",
     "output_type": "stream",
     "text": [
      "/Users/estebanzuniga/opt/anaconda3/lib/python3.7/site-packages/ipykernel_launcher.py:1: SettingWithCopyWarning: \n",
      "A value is trying to be set on a copy of a slice from a DataFrame\n",
      "\n",
      "See the caveats in the documentation: https://pandas.pydata.org/pandas-docs/stable/user_guide/indexing.html#returning-a-view-versus-a-copy\n",
      "  \"\"\"Entry point for launching an IPython kernel.\n"
     ]
    }
   ],
   "source": [
    "yankess_pinstripes_clean.dropna(inplace = True)"
   ]
  },
  {
   "cell_type": "code",
   "execution_count": 26,
   "metadata": {},
   "outputs": [
    {
     "data": {
      "text/plain": [
       "<matplotlib.axes._subplots.AxesSubplot at 0x7fa01faffbd0>"
      ]
     },
     "execution_count": 26,
     "metadata": {},
     "output_type": "execute_result"
    },
    {
     "data": {
      "image/png": "[encoded data removed]",
      "text/plain": [
       "<Figure size 432x288 with 1 Axes>"
      ]
     },
     "metadata": {
      "needs_background": "light"
     },
     "output_type": "display_data"
    }
   ],
   "source": [
    "yankess_pinstripes_clean.YEAR.hist(bins = 59)"
   ]
  },
  {
   "cell_type": "markdown",
   "metadata": {},
   "source": [
    "# Time series: Train set, Test set #"
   ]
  },
  {
   "cell_type": "code",
   "execution_count": 27,
   "metadata": {},
   "outputs": [],
   "source": [
    "pinstripes_clean_tr = yankess_pinstripes_clean[yankess_pinstripes_clean.YEAR<(2007)]"
   ]
  },
  {
   "cell_type": "code",
   "execution_count": 28,
   "metadata": {},
   "outputs": [
    {
     "data": {
      "text/plain": [
       "(674, 30)"
      ]
     },
     "execution_count": 28,
     "metadata": {},
     "output_type": "execute_result"
    }
   ],
   "source": [
    "pinstripes_clean_tr.shape"
   ]
  },
  {
   "cell_type": "code",
   "execution_count": 29,
   "metadata": {},
   "outputs": [],
   "source": [
    "# Very important!!!!! set year for how many season to withold. come up with obvious name\n",
    "pinstripes_clean_test = yankess_pinstripes_clean[yankess_pinstripes_clean.YEAR >=(2007)] # test "
   ]
  },
  {
   "cell_type": "code",
   "execution_count": 30,
   "metadata": {},
   "outputs": [
    {
     "data": {
      "text/plain": [
       "(142, 30)"
      ]
     },
     "execution_count": 30,
     "metadata": {},
     "output_type": "execute_result"
    }
   ],
   "source": [
    "pinstripes_clean_test.shape"
   ]
  },
  {
   "cell_type": "code",
   "execution_count": 31,
   "metadata": {},
   "outputs": [
    {
     "data": {
      "text/html": [
       "<div>\n",
       "<style scoped>\n",
       "    .dataframe tbody tr th:only-of-type {\n",
       "        vertical-align: middle;\n",
       "    }\n",
       "\n",
       "    .dataframe tbody tr th {\n",
       "        vertical-align: top;\n",
       "    }\n",
       "\n",
       "    .dataframe thead th {\n",
       "        text-align: right;\n",
       "    }\n",
       "</style>\n",
       "<table border=\"1\" class=\"dataframe\">\n",
       "  <thead>\n",
       "    <tr style=\"text-align: right;\">\n",
       "      <th></th>\n",
       "      <th>YEAR</th>\n",
       "    </tr>\n",
       "  </thead>\n",
       "  <tbody>\n",
       "    <tr>\n",
       "      <th>2007</th>\n",
       "      <td>13</td>\n",
       "    </tr>\n",
       "    <tr>\n",
       "      <th>2008</th>\n",
       "      <td>17</td>\n",
       "    </tr>\n",
       "    <tr>\n",
       "      <th>2009</th>\n",
       "      <td>10</td>\n",
       "    </tr>\n",
       "    <tr>\n",
       "      <th>2010</th>\n",
       "      <td>12</td>\n",
       "    </tr>\n",
       "    <tr>\n",
       "      <th>2011</th>\n",
       "      <td>15</td>\n",
       "    </tr>\n",
       "    <tr>\n",
       "      <th>2012</th>\n",
       "      <td>12</td>\n",
       "    </tr>\n",
       "    <tr>\n",
       "      <th>2013</th>\n",
       "      <td>11</td>\n",
       "    </tr>\n",
       "    <tr>\n",
       "      <th>2014</th>\n",
       "      <td>12</td>\n",
       "    </tr>\n",
       "    <tr>\n",
       "      <th>2015</th>\n",
       "      <td>14</td>\n",
       "    </tr>\n",
       "    <tr>\n",
       "      <th>2016</th>\n",
       "      <td>13</td>\n",
       "    </tr>\n",
       "    <tr>\n",
       "      <th>2017</th>\n",
       "      <td>13</td>\n",
       "    </tr>\n",
       "  </tbody>\n",
       "</table>\n",
       "</div>"
      ],
      "text/plain": [
       "      YEAR\n",
       "2007    13\n",
       "2008    17\n",
       "2009    10\n",
       "2010    12\n",
       "2011    15\n",
       "2012    12\n",
       "2013    11\n",
       "2014    12\n",
       "2015    14\n",
       "2016    13\n",
       "2017    13"
      ]
     },
     "execution_count": 31,
     "metadata": {},
     "output_type": "execute_result"
    }
   ],
   "source": [
    "pd.DataFrame(pinstripes_clean_test.YEAR.value_counts()).sort_index()"
   ]
  },
  {
   "cell_type": "code",
   "execution_count": 32,
   "metadata": {},
   "outputs": [
    {
     "data": {
      "text/plain": [
       "<matplotlib.axes._subplots.AxesSubplot at 0x7fa02563ae90>"
      ]
     },
     "execution_count": 32,
     "metadata": {},
     "output_type": "execute_result"
    },
    {
     "data": {
      "image/png": "[encoded data removed]",
      "text/plain": [
       "<Figure size 432x288 with 1 Axes>"
      ]
     },
     "metadata": {
      "needs_background": "light"
     },
     "output_type": "display_data"
    }
   ],
   "source": [
    "yankess_pinstripes_clean.G.hist(bins = yankess_pinstripes_clean.G.max())"
   ]
  },
  {
   "cell_type": "code",
   "execution_count": 33,
   "metadata": {},
   "outputs": [
    {
     "data": {
      "text/plain": [
       "<matplotlib.axes._subplots.AxesSubplot at 0x7fa02561e4d0>"
      ]
     },
     "execution_count": 33,
     "metadata": {},
     "output_type": "execute_result"
    },
    {
     "data": {
      "image/png": "[encoded data removed]",
      "text/plain": [
       "<Figure size 432x288 with 1 Axes>"
      ]
     },
     "metadata": {
      "needs_background": "light"
     },
     "output_type": "display_data"
    }
   ],
   "source": [
    "yankess_pinstripes_clean[yankess_pinstripes_clean.HR>0].G.hist(bins = yankess_pinstripes_clean.G.max())"
   ]
  },
  {
   "cell_type": "code",
   "execution_count": 34,
   "metadata": {},
   "outputs": [
    {
     "data": {
      "text/plain": [
       "<matplotlib.axes._subplots.AxesSubplot at 0x7fa01fa7e150>"
      ]
     },
     "execution_count": 34,
     "metadata": {},
     "output_type": "execute_result"
    },
    {
     "data": {
      "image/png": "[encoded data removed]",
      "text/plain": [
       "<Figure size 432x288 with 1 Axes>"
      ]
     },
     "metadata": {
      "needs_background": "light"
     },
     "output_type": "display_data"
    }
   ],
   "source": [
    "yankess_pinstripes_clean[yankess_pinstripes_clean.HR == 0].G.hist(bins = yankess_pinstripes_clean.G.max())"
   ]
  },
  {
   "cell_type": "markdown",
   "metadata": {},
   "source": [
    "# setting up for R^2 score #"
   ]
  },
  {
   "cell_type": "code",
   "execution_count": 35,
   "metadata": {},
   "outputs": [
    {
     "data": {
      "text/plain": [
       "9.584569732937686"
      ]
     },
     "execution_count": 35,
     "metadata": {},
     "output_type": "execute_result"
    }
   ],
   "source": [
    "pinstripes_clean_tr.HR.mean()"
   ]
  },
  {
   "cell_type": "code",
   "execution_count": 36,
   "metadata": {},
   "outputs": [
    {
     "data": {
      "text/plain": [
       "'HR_PREDICT ~ Age + G + PA + AB + R + H + D + T + HR + RBI + SB + CS + BB + SO + BA + OBP + SLG + OPS + OPS+ + TB + GDP + HBP + SH + SF + IBB + YEAR '"
      ]
     },
     "execution_count": 36,
     "metadata": {},
     "output_type": "execute_result"
    }
   ],
   "source": [
    "formula = 'HR_PREDICT ~ '\n",
    "for col in pinstripes_clean_tr.columns[3:-1]:\n",
    "    formula = formula + col + ' + '\n",
    "formula[:-2]"
   ]
  },
  {
   "cell_type": "code",
   "execution_count": 37,
   "metadata": {},
   "outputs": [
    {
     "data": {
      "text/html": [
       "<table class=\"simpletable\">\n",
       "<caption>OLS Regression Results</caption>\n",
       "<tr>\n",
       "  <th>Dep. Variable:</th>       <td>HR_PREDICT</td>    <th>  R-squared:         </th> <td>   0.583</td> \n",
       "</tr>\n",
       "<tr>\n",
       "  <th>Model:</th>                   <td>OLS</td>       <th>  Adj. R-squared:    </th> <td>   0.573</td> \n",
       "</tr>\n",
       "<tr>\n",
       "  <th>Method:</th>             <td>Least Squares</td>  <th>  F-statistic:       </th> <td>   57.33</td> \n",
       "</tr>\n",
       "<tr>\n",
       "  <th>Date:</th>             <td>Wed, 12 May 2021</td> <th>  Prob (F-statistic):</th> <td>4.40e-113</td>\n",
       "</tr>\n",
       "<tr>\n",
       "  <th>Time:</th>                 <td>21:02:08</td>     <th>  Log-Likelihood:    </th> <td> -2215.4</td> \n",
       "</tr>\n",
       "<tr>\n",
       "  <th>No. Observations:</th>      <td>   674</td>      <th>  AIC:               </th> <td>   4465.</td> \n",
       "</tr>\n",
       "<tr>\n",
       "  <th>Df Residuals:</th>          <td>   657</td>      <th>  BIC:               </th> <td>   4541.</td> \n",
       "</tr>\n",
       "<tr>\n",
       "  <th>Df Model:</th>              <td>    16</td>      <th>                     </th>     <td> </td>    \n",
       "</tr>\n",
       "<tr>\n",
       "  <th>Covariance Type:</th>      <td>nonrobust</td>    <th>                     </th>     <td> </td>    \n",
       "</tr>\n",
       "</table>\n",
       "<table class=\"simpletable\">\n",
       "<tr>\n",
       "      <td></td>         <th>coef</th>     <th>std err</th>      <th>t</th>      <th>P>|t|</th>  <th>[0.025</th>    <th>0.975]</th>  \n",
       "</tr>\n",
       "<tr>\n",
       "  <th>Intercept</th> <td>    9.4341</td> <td>    1.959</td> <td>    4.815</td> <td> 0.000</td> <td>    5.587</td> <td>   13.281</td>\n",
       "</tr>\n",
       "<tr>\n",
       "  <th>Age</th>       <td>   -0.2634</td> <td>    0.070</td> <td>   -3.784</td> <td> 0.000</td> <td>   -0.400</td> <td>   -0.127</td>\n",
       "</tr>\n",
       "<tr>\n",
       "  <th>HR</th>        <td>    0.5347</td> <td>    0.087</td> <td>    6.177</td> <td> 0.000</td> <td>    0.365</td> <td>    0.705</td>\n",
       "</tr>\n",
       "<tr>\n",
       "  <th>G</th>         <td>   -0.0416</td> <td>    0.023</td> <td>   -1.806</td> <td> 0.071</td> <td>   -0.087</td> <td>    0.004</td>\n",
       "</tr>\n",
       "<tr>\n",
       "  <th>PA</th>        <td>   -0.1201</td> <td>    0.071</td> <td>   -1.681</td> <td> 0.093</td> <td>   -0.260</td> <td>    0.020</td>\n",
       "</tr>\n",
       "<tr>\n",
       "  <th>AB</th>        <td>    0.1174</td> <td>    0.072</td> <td>    1.633</td> <td> 0.103</td> <td>   -0.024</td> <td>    0.259</td>\n",
       "</tr>\n",
       "<tr>\n",
       "  <th>R</th>         <td>   -0.0674</td> <td>    0.040</td> <td>   -1.695</td> <td> 0.090</td> <td>   -0.145</td> <td>    0.011</td>\n",
       "</tr>\n",
       "<tr>\n",
       "  <th>H</th>         <td>    0.0387</td> <td>    0.038</td> <td>    1.023</td> <td> 0.307</td> <td>   -0.036</td> <td>    0.113</td>\n",
       "</tr>\n",
       "<tr>\n",
       "  <th>D</th>         <td>    0.0597</td> <td>    0.067</td> <td>    0.892</td> <td> 0.373</td> <td>   -0.072</td> <td>    0.191</td>\n",
       "</tr>\n",
       "<tr>\n",
       "  <th>T</th>         <td>    0.0395</td> <td>    0.171</td> <td>    0.230</td> <td> 0.818</td> <td>   -0.297</td> <td>    0.376</td>\n",
       "</tr>\n",
       "<tr>\n",
       "  <th>RBI</th>       <td>    0.0958</td> <td>    0.039</td> <td>    2.434</td> <td> 0.015</td> <td>    0.019</td> <td>    0.173</td>\n",
       "</tr>\n",
       "<tr>\n",
       "  <th>BB</th>        <td>    0.1599</td> <td>    0.073</td> <td>    2.185</td> <td> 0.029</td> <td>    0.016</td> <td>    0.304</td>\n",
       "</tr>\n",
       "<tr>\n",
       "  <th>SO</th>        <td>    0.0237</td> <td>    0.015</td> <td>    1.534</td> <td> 0.125</td> <td>   -0.007</td> <td>    0.054</td>\n",
       "</tr>\n",
       "<tr>\n",
       "  <th>GDP</th>       <td>    0.0258</td> <td>    0.075</td> <td>    0.342</td> <td> 0.732</td> <td>   -0.122</td> <td>    0.174</td>\n",
       "</tr>\n",
       "<tr>\n",
       "  <th>SF</th>        <td>   -0.0286</td> <td>    0.158</td> <td>   -0.181</td> <td> 0.856</td> <td>   -0.338</td> <td>    0.281</td>\n",
       "</tr>\n",
       "<tr>\n",
       "  <th>IBB</th>       <td>   -0.1570</td> <td>    0.115</td> <td>   -1.370</td> <td> 0.171</td> <td>   -0.382</td> <td>    0.068</td>\n",
       "</tr>\n",
       "<tr>\n",
       "  <th>SLG</th>       <td>    0.7181</td> <td>    2.501</td> <td>    0.287</td> <td> 0.774</td> <td>   -4.193</td> <td>    5.629</td>\n",
       "</tr>\n",
       "</table>\n",
       "<table class=\"simpletable\">\n",
       "<tr>\n",
       "  <th>Omnibus:</th>       <td>121.734</td> <th>  Durbin-Watson:     </th> <td>   2.279</td>\n",
       "</tr>\n",
       "<tr>\n",
       "  <th>Prob(Omnibus):</th> <td> 0.000</td>  <th>  Jarque-Bera (JB):  </th> <td> 285.237</td>\n",
       "</tr>\n",
       "<tr>\n",
       "  <th>Skew:</th>          <td> 0.958</td>  <th>  Prob(JB):          </th> <td>1.15e-62</td>\n",
       "</tr>\n",
       "<tr>\n",
       "  <th>Kurtosis:</th>      <td> 5.547</td>  <th>  Cond. No.          </th> <td>6.16e+03</td>\n",
       "</tr>\n",
       "</table><br/><br/>Warnings:<br/>[1] Standard Errors assume that the covariance matrix of the errors is correctly specified.<br/>[2] The condition number is large, 6.16e+03. This might indicate that there are<br/>strong multicollinearity or other numerical problems."
      ],
      "text/plain": [
       "<class 'statsmodels.iolib.summary.Summary'>\n",
       "\"\"\"\n",
       "                            OLS Regression Results                            \n",
       "==============================================================================\n",
       "Dep. Variable:             HR_PREDICT   R-squared:                       0.583\n",
       "Model:                            OLS   Adj. R-squared:                  0.573\n",
       "Method:                 Least Squares   F-statistic:                     57.33\n",
       "Date:                Wed, 12 May 2021   Prob (F-statistic):          4.40e-113\n",
       "Time:                        21:02:08   Log-Likelihood:                -2215.4\n",
       "No. Observations:                 674   AIC:                             4465.\n",
       "Df Residuals:                     657   BIC:                             4541.\n",
       "Df Model:                          16                                         \n",
       "Covariance Type:            nonrobust                                         \n",
       "==============================================================================\n",
       "                 coef    std err          t      P>|t|      [0.025      0.975]\n",
       "------------------------------------------------------------------------------\n",
       "Intercept      9.4341      1.959      4.815      0.000       5.587      13.281\n",
       "Age           -0.2634      0.070     -3.784      0.000      -0.400      -0.127\n",
       "HR             0.5347      0.087      6.177      0.000       0.365       0.705\n",
       "G             -0.0416      0.023     -1.806      0.071      -0.087       0.004\n",
       "PA            -0.1201      0.071     -1.681      0.093      -0.260       0.020\n",
       "AB             0.1174      0.072      1.633      0.103      -0.024       0.259\n",
       "R             -0.0674      0.040     -1.695      0.090      -0.145       0.011\n",
       "H              0.0387      0.038      1.023      0.307      -0.036       0.113\n",
       "D              0.0597      0.067      0.892      0.373      -0.072       0.191\n",
       "T              0.0395      0.171      0.230      0.818      -0.297       0.376\n",
       "RBI            0.0958      0.039      2.434      0.015       0.019       0.173\n",
       "BB             0.1599      0.073      2.185      0.029       0.016       0.304\n",
       "SO             0.0237      0.015      1.534      0.125      -0.007       0.054\n",
       "GDP            0.0258      0.075      0.342      0.732      -0.122       0.174\n",
       "SF            -0.0286      0.158     -0.181      0.856      -0.338       0.281\n",
       "IBB           -0.1570      0.115     -1.370      0.171      -0.382       0.068\n",
       "SLG            0.7181      2.501      0.287      0.774      -4.193       5.629\n",
       "==============================================================================\n",
       "Omnibus:                      121.734   Durbin-Watson:                   2.279\n",
       "Prob(Omnibus):                  0.000   Jarque-Bera (JB):              285.237\n",
       "Skew:                           0.958   Prob(JB):                     1.15e-62\n",
       "Kurtosis:                       5.547   Cond. No.                     6.16e+03\n",
       "==============================================================================\n",
       "\n",
       "Warnings:\n",
       "[1] Standard Errors assume that the covariance matrix of the errors is correctly specified.\n",
       "[2] The condition number is large, 6.16e+03. This might indicate that there are\n",
       "strong multicollinearity or other numerical problems.\n",
       "\"\"\""
      ]
     },
     "execution_count": 37,
     "metadata": {},
     "output_type": "execute_result"
    }
   ],
   "source": [
    "# STATSMODEL\n",
    "y, X = patsy.dmatrices('HR_PREDICT ~ Age + HR + G +PA + AB + R + H + D + T + RBI + BB + SO + GDP + SF + IBB+ SLG', \n",
    "                       pinstripes_clean_tr, return_type=\"dataframe\")\n",
    "\n",
    "\n",
    "model = sm.OLS(y, sm.add_constant(X))\n",
    "\n",
    "\n",
    "fit = model.fit()\n",
    "\n",
    "\n",
    "fit.summary()"
   ]
  },
  {
   "cell_type": "code",
   "execution_count": 38,
   "metadata": {},
   "outputs": [
    {
     "data": {
      "text/html": [
       "<table class=\"simpletable\">\n",
       "<caption>OLS Regression Results</caption>\n",
       "<tr>\n",
       "  <th>Dep. Variable:</th>       <td>HR_PREDICT</td>    <th>  R-squared:         </th> <td>   0.585</td> \n",
       "</tr>\n",
       "<tr>\n",
       "  <th>Model:</th>                   <td>OLS</td>       <th>  Adj. R-squared:    </th> <td>   0.569</td> \n",
       "</tr>\n",
       "<tr>\n",
       "  <th>Method:</th>             <td>Least Squares</td>  <th>  F-statistic:       </th> <td>   38.07</td> \n",
       "</tr>\n",
       "<tr>\n",
       "  <th>Date:</th>             <td>Wed, 12 May 2021</td> <th>  Prob (F-statistic):</th> <td>5.21e-107</td>\n",
       "</tr>\n",
       "<tr>\n",
       "  <th>Time:</th>                 <td>21:02:08</td>     <th>  Log-Likelihood:    </th> <td> -2213.7</td> \n",
       "</tr>\n",
       "<tr>\n",
       "  <th>No. Observations:</th>      <td>   674</td>      <th>  AIC:               </th> <td>   4477.</td> \n",
       "</tr>\n",
       "<tr>\n",
       "  <th>Df Residuals:</th>          <td>   649</td>      <th>  BIC:               </th> <td>   4590.</td> \n",
       "</tr>\n",
       "<tr>\n",
       "  <th>Df Model:</th>              <td>    24</td>      <th>                     </th>     <td> </td>    \n",
       "</tr>\n",
       "<tr>\n",
       "  <th>Covariance Type:</th>      <td>nonrobust</td>    <th>                     </th>     <td> </td>    \n",
       "</tr>\n",
       "</table>\n",
       "<table class=\"simpletable\">\n",
       "<tr>\n",
       "      <td></td>         <th>coef</th>     <th>std err</th>      <th>t</th>      <th>P>|t|</th>  <th>[0.025</th>    <th>0.975]</th>  \n",
       "</tr>\n",
       "<tr>\n",
       "  <th>Intercept</th> <td>   -0.6747</td> <td>   47.960</td> <td>   -0.014</td> <td> 0.989</td> <td>  -94.850</td> <td>   93.501</td>\n",
       "</tr>\n",
       "<tr>\n",
       "  <th>Age</th>       <td>   -0.2766</td> <td>    0.072</td> <td>   -3.850</td> <td> 0.000</td> <td>   -0.418</td> <td>   -0.136</td>\n",
       "</tr>\n",
       "<tr>\n",
       "  <th>G</th>         <td>   -0.0361</td> <td>    0.024</td> <td>   -1.520</td> <td> 0.129</td> <td>   -0.083</td> <td>    0.011</td>\n",
       "</tr>\n",
       "<tr>\n",
       "  <th>PA</th>        <td>   -0.5602</td> <td>    0.688</td> <td>   -0.814</td> <td> 0.416</td> <td>   -1.911</td> <td>    0.791</td>\n",
       "</tr>\n",
       "<tr>\n",
       "  <th>AB</th>        <td>    0.5577</td> <td>    0.688</td> <td>    0.811</td> <td> 0.418</td> <td>   -0.793</td> <td>    1.909</td>\n",
       "</tr>\n",
       "<tr>\n",
       "  <th>R</th>         <td>   -0.0843</td> <td>    0.045</td> <td>   -1.892</td> <td> 0.059</td> <td>   -0.172</td> <td>    0.003</td>\n",
       "</tr>\n",
       "<tr>\n",
       "  <th>H</th>         <td>   -0.0703</td> <td>    0.048</td> <td>   -1.451</td> <td> 0.147</td> <td>   -0.165</td> <td>    0.025</td>\n",
       "</tr>\n",
       "<tr>\n",
       "  <th>D</th>         <td>   -0.0569</td> <td>    0.065</td> <td>   -0.871</td> <td> 0.384</td> <td>   -0.185</td> <td>    0.071</td>\n",
       "</tr>\n",
       "<tr>\n",
       "  <th>T</th>         <td>   -0.1641</td> <td>    0.132</td> <td>   -1.239</td> <td> 0.216</td> <td>   -0.424</td> <td>    0.096</td>\n",
       "</tr>\n",
       "<tr>\n",
       "  <th>HR</th>        <td>    0.1901</td> <td>    0.072</td> <td>    2.653</td> <td> 0.008</td> <td>    0.049</td> <td>    0.331</td>\n",
       "</tr>\n",
       "<tr>\n",
       "  <th>RBI</th>       <td>    0.0931</td> <td>    0.041</td> <td>    2.286</td> <td> 0.023</td> <td>    0.013</td> <td>    0.173</td>\n",
       "</tr>\n",
       "<tr>\n",
       "  <th>SB</th>        <td>    0.0350</td> <td>    0.047</td> <td>    0.740</td> <td> 0.460</td> <td>   -0.058</td> <td>    0.128</td>\n",
       "</tr>\n",
       "<tr>\n",
       "  <th>CS</th>        <td>   -0.0410</td> <td>    0.136</td> <td>   -0.301</td> <td> 0.763</td> <td>   -0.308</td> <td>    0.226</td>\n",
       "</tr>\n",
       "<tr>\n",
       "  <th>BB</th>        <td>    0.5916</td> <td>    0.687</td> <td>    0.862</td> <td> 0.389</td> <td>   -0.757</td> <td>    1.940</td>\n",
       "</tr>\n",
       "<tr>\n",
       "  <th>SO</th>        <td>    0.0202</td> <td>    0.016</td> <td>    1.241</td> <td> 0.215</td> <td>   -0.012</td> <td>    0.052</td>\n",
       "</tr>\n",
       "<tr>\n",
       "  <th>BA</th>        <td>   -6.5587</td> <td>   10.612</td> <td>   -0.618</td> <td> 0.537</td> <td>  -27.396</td> <td>   14.279</td>\n",
       "</tr>\n",
       "<tr>\n",
       "  <th>OBP</th>       <td>  299.0780</td> <td>  504.388</td> <td>    0.593</td> <td> 0.553</td> <td> -691.352</td> <td> 1289.508</td>\n",
       "</tr>\n",
       "<tr>\n",
       "  <th>SLG</th>       <td>  294.3390</td> <td>  504.499</td> <td>    0.583</td> <td> 0.560</td> <td> -696.309</td> <td> 1284.987</td>\n",
       "</tr>\n",
       "<tr>\n",
       "  <th>OPS</th>       <td> -293.1749</td> <td>  504.342</td> <td>   -0.581</td> <td> 0.561</td> <td>-1283.515</td> <td>  697.165</td>\n",
       "</tr>\n",
       "<tr>\n",
       "  <th>TB</th>        <td>    0.1148</td> <td>    0.033</td> <td>    3.448</td> <td> 0.001</td> <td>    0.049</td> <td>    0.180</td>\n",
       "</tr>\n",
       "<tr>\n",
       "  <th>GDP</th>       <td>    0.0378</td> <td>    0.077</td> <td>    0.491</td> <td> 0.624</td> <td>   -0.113</td> <td>    0.189</td>\n",
       "</tr>\n",
       "<tr>\n",
       "  <th>HBP</th>       <td>    0.5139</td> <td>    0.695</td> <td>    0.739</td> <td> 0.460</td> <td>   -0.851</td> <td>    1.879</td>\n",
       "</tr>\n",
       "<tr>\n",
       "  <th>SH</th>        <td>    0.3596</td> <td>    0.690</td> <td>    0.522</td> <td> 0.602</td> <td>   -0.994</td> <td>    1.714</td>\n",
       "</tr>\n",
       "<tr>\n",
       "  <th>SF</th>        <td>    0.4239</td> <td>    0.702</td> <td>    0.604</td> <td> 0.546</td> <td>   -0.954</td> <td>    1.802</td>\n",
       "</tr>\n",
       "<tr>\n",
       "  <th>IBB</th>       <td>   -0.1493</td> <td>    0.116</td> <td>   -1.284</td> <td> 0.200</td> <td>   -0.378</td> <td>    0.079</td>\n",
       "</tr>\n",
       "<tr>\n",
       "  <th>YEAR</th>      <td>    0.0051</td> <td>    0.024</td> <td>    0.209</td> <td> 0.834</td> <td>   -0.043</td> <td>    0.053</td>\n",
       "</tr>\n",
       "</table>\n",
       "<table class=\"simpletable\">\n",
       "<tr>\n",
       "  <th>Omnibus:</th>       <td>118.613</td> <th>  Durbin-Watson:     </th> <td>   2.272</td>\n",
       "</tr>\n",
       "<tr>\n",
       "  <th>Prob(Omnibus):</th> <td> 0.000</td>  <th>  Jarque-Bera (JB):  </th> <td> 281.484</td>\n",
       "</tr>\n",
       "<tr>\n",
       "  <th>Skew:</th>          <td> 0.930</td>  <th>  Prob(JB):          </th> <td>7.53e-62</td>\n",
       "</tr>\n",
       "<tr>\n",
       "  <th>Kurtosis:</th>      <td> 5.561</td>  <th>  Cond. No.          </th> <td>1.00e+16</td>\n",
       "</tr>\n",
       "</table><br/><br/>Warnings:<br/>[1] Standard Errors assume that the covariance matrix of the errors is correctly specified.<br/>[2] The smallest eigenvalue is 2.81e-23. This might indicate that there are<br/>strong multicollinearity problems or that the design matrix is singular."
      ],
      "text/plain": [
       "<class 'statsmodels.iolib.summary.Summary'>\n",
       "\"\"\"\n",
       "                            OLS Regression Results                            \n",
       "==============================================================================\n",
       "Dep. Variable:             HR_PREDICT   R-squared:                       0.585\n",
       "Model:                            OLS   Adj. R-squared:                  0.569\n",
       "Method:                 Least Squares   F-statistic:                     38.07\n",
       "Date:                Wed, 12 May 2021   Prob (F-statistic):          5.21e-107\n",
       "Time:                        21:02:08   Log-Likelihood:                -2213.7\n",
       "No. Observations:                 674   AIC:                             4477.\n",
       "Df Residuals:                     649   BIC:                             4590.\n",
       "Df Model:                          24                                         \n",
       "Covariance Type:            nonrobust                                         \n",
       "==============================================================================\n",
       "                 coef    std err          t      P>|t|      [0.025      0.975]\n",
       "------------------------------------------------------------------------------\n",
       "Intercept     -0.6747     47.960     -0.014      0.989     -94.850      93.501\n",
       "Age           -0.2766      0.072     -3.850      0.000      -0.418      -0.136\n",
       "G             -0.0361      0.024     -1.520      0.129      -0.083       0.011\n",
       "PA            -0.5602      0.688     -0.814      0.416      -1.911       0.791\n",
       "AB             0.5577      0.688      0.811      0.418      -0.793       1.909\n",
       "R             -0.0843      0.045     -1.892      0.059      -0.172       0.003\n",
       "H             -0.0703      0.048     -1.451      0.147      -0.165       0.025\n",
       "D             -0.0569      0.065     -0.871      0.384      -0.185       0.071\n",
       "T             -0.1641      0.132     -1.239      0.216      -0.424       0.096\n",
       "HR             0.1901      0.072      2.653      0.008       0.049       0.331\n",
       "RBI            0.0931      0.041      2.286      0.023       0.013       0.173\n",
       "SB             0.0350      0.047      0.740      0.460      -0.058       0.128\n",
       "CS            -0.0410      0.136     -0.301      0.763      -0.308       0.226\n",
       "BB             0.5916      0.687      0.862      0.389      -0.757       1.940\n",
       "SO             0.0202      0.016      1.241      0.215      -0.012       0.052\n",
       "BA            -6.5587     10.612     -0.618      0.537     -27.396      14.279\n",
       "OBP          299.0780    504.388      0.593      0.553    -691.352    1289.508\n",
       "SLG          294.3390    504.499      0.583      0.560    -696.309    1284.987\n",
       "OPS         -293.1749    504.342     -0.581      0.561   -1283.515     697.165\n",
       "TB             0.1148      0.033      3.448      0.001       0.049       0.180\n",
       "GDP            0.0378      0.077      0.491      0.624      -0.113       0.189\n",
       "HBP            0.5139      0.695      0.739      0.460      -0.851       1.879\n",
       "SH             0.3596      0.690      0.522      0.602      -0.994       1.714\n",
       "SF             0.4239      0.702      0.604      0.546      -0.954       1.802\n",
       "IBB           -0.1493      0.116     -1.284      0.200      -0.378       0.079\n",
       "YEAR           0.0051      0.024      0.209      0.834      -0.043       0.053\n",
       "==============================================================================\n",
       "Omnibus:                      118.613   Durbin-Watson:                   2.272\n",
       "Prob(Omnibus):                  0.000   Jarque-Bera (JB):              281.484\n",
       "Skew:                           0.930   Prob(JB):                     7.53e-62\n",
       "Kurtosis:                       5.561   Cond. No.                     1.00e+16\n",
       "==============================================================================\n",
       "\n",
       "Warnings:\n",
       "[1] Standard Errors assume that the covariance matrix of the errors is correctly specified.\n",
       "[2] The smallest eigenvalue is 2.81e-23. This might indicate that there are\n",
       "strong multicollinearity problems or that the design matrix is singular.\n",
       "\"\"\""
      ]
     },
     "execution_count": 38,
     "metadata": {},
     "output_type": "execute_result"
    }
   ],
   "source": [
    "y, X = patsy.dmatrices(formula[:-2], \n",
    "                       pinstripes_clean_tr, return_type=\"dataframe\")\n",
    "\n",
    "\n",
    "model = sm.OLS(y, sm.add_constant(X))\n",
    "\n",
    "\n",
    "fit = model.fit()\n",
    "\n",
    "\n",
    "fit.summary()"
   ]
  },
  {
   "cell_type": "markdown",
   "metadata": {},
   "source": [
    "# Train #"
   ]
  },
  {
   "cell_type": "code",
   "execution_count": 39,
   "metadata": {},
   "outputs": [
    {
     "data": {
      "text/plain": [
       "0.5826129879430991"
      ]
     },
     "execution_count": 39,
     "metadata": {},
     "output_type": "execute_result"
    }
   ],
   "source": [
    "lr_tr = LinearRegression()\n",
    "\n",
    "X_train = pinstripes_clean_tr[['Age','HR','G','PA','AB','R','H','D','T','RBI','BB','SO','GDP','SF','IBB']]\n",
    "y_train = pinstripes_clean_tr['HR_PREDICT']\n",
    "\n",
    "features = X_train.columns\n",
    "\n",
    "lr_tr.fit(X_train, y_train)\n",
    "lr_tr.score(X_train,y_train)"
   ]
  },
  {
   "cell_type": "code",
   "execution_count": 40,
   "metadata": {},
   "outputs": [
    {
     "data": {
      "text/plain": [
       "9.612821657096344"
      ]
     },
     "execution_count": 40,
     "metadata": {},
     "output_type": "execute_result"
    }
   ],
   "source": [
    "lr_tr.intercept_"
   ]
  },
  {
   "cell_type": "code",
   "execution_count": 41,
   "metadata": {},
   "outputs": [
    {
     "data": {
      "text/plain": [
       "[('Age', -0.26145675209200214),\n",
       " ('HR', 0.5410752058726976),\n",
       " ('G', -0.040895751012002976),\n",
       " ('PA', -0.12022914066106563),\n",
       " ('AB', 0.11669842843968466),\n",
       " ('R', -0.0681210820878918),\n",
       " ('H', 0.04103252679286564),\n",
       " ('D', 0.06191604351501527),\n",
       " ('T', 0.044499510122927625),\n",
       " ('RBI', 0.09511921292026781),\n",
       " ('BB', 0.16028494324849232),\n",
       " ('SO', 0.023647716673559072),\n",
       " ('GDP', 0.025385960786087295),\n",
       " ('SF', -0.028170615783842935),\n",
       " ('IBB', -0.15783286313513875)]"
      ]
     },
     "execution_count": 41,
     "metadata": {},
     "output_type": "execute_result"
    }
   ],
   "source": [
    "\n",
    "list(zip(features,lr_tr.coef_))"
   ]
  },
  {
   "cell_type": "markdown",
   "metadata": {},
   "source": [
    "# Val #"
   ]
  },
  {
   "cell_type": "code",
   "execution_count": 42,
   "metadata": {},
   "outputs": [
    {
     "data": {
      "text/plain": [
       "0.40144591904666316"
      ]
     },
     "execution_count": 42,
     "metadata": {},
     "output_type": "execute_result"
    }
   ],
   "source": [
    "# First regression on test data ; lower  than the train data\n",
    "\n",
    "X_test = pinstripes_clean_test[['Age','HR','G','PA','AB','R','H','D','T','RBI','BB','SO','GDP','SF','IBB']]\n",
    "y_test = pinstripes_clean_test['HR_PREDICT']\n",
    "\n",
    "test_features = X_test.columns\n",
    "\n",
    "lr_tr.score(X_test,y_test)"
   ]
  },
  {
   "cell_type": "code",
   "execution_count": 43,
   "metadata": {},
   "outputs": [],
   "source": [
    "Y_hat = lr_tr.predict(X_test)"
   ]
  },
  {
   "cell_type": "code",
   "execution_count": 44,
   "metadata": {},
   "outputs": [
    {
     "data": {
      "text/plain": [
       "<matplotlib.axes._subplots.AxesSubplot at 0x7fa0256afc50>"
      ]
     },
     "execution_count": 44,
     "metadata": {},
     "output_type": "execute_result"
    },
    {
     "data": {
      "image/png": "[encoded data removed]",
      "text/plain": [
       "<Figure size 432x288 with 1 Axes>"
      ]
     },
     "metadata": {
      "needs_background": "light"
     },
     "output_type": "display_data"
    }
   ],
   "source": [
    "import seaborn as sns\n",
    "sns.scatterplot(y_test,Y_hat)\n"
   ]
  },
  {
   "cell_type": "code",
   "execution_count": 45,
   "metadata": {},
   "outputs": [
    {
     "data": {
      "text/plain": [
       "6.253476933137717"
      ]
     },
     "execution_count": 45,
     "metadata": {},
     "output_type": "execute_result"
    }
   ],
   "source": [
    "resid = Y_hat-y_test\n",
    "np.mean(abs(resid))"
   ]
  },
  {
   "cell_type": "code",
   "execution_count": 46,
   "metadata": {},
   "outputs": [
    {
     "data": {
      "text/plain": [
       "<matplotlib.axes._subplots.AxesSubplot at 0x7fa025678210>"
      ]
     },
     "execution_count": 46,
     "metadata": {},
     "output_type": "execute_result"
    },
    {
     "data": {
      "image/png": "[encoded data removed]",
      "text/plain": [
       "<Figure size 432x288 with 1 Axes>"
      ]
     },
     "metadata": {
      "needs_background": "light"
     },
     "output_type": "display_data"
    }
   ],
   "source": [
    "sns.scatterplot(y_test,resid)"
   ]
  },
  {
   "cell_type": "markdown",
   "metadata": {},
   "source": [
    "# Scale #"
   ]
  },
  {
   "cell_type": "code",
   "execution_count": 47,
   "metadata": {},
   "outputs": [
    {
     "data": {
      "text/plain": [
       "0.5826129879430991"
      ]
     },
     "execution_count": 47,
     "metadata": {},
     "output_type": "execute_result"
    }
   ],
   "source": [
    "# Standar Scalar. On train dataset\n",
    "from sklearn.preprocessing import StandardScaler\n",
    "s = StandardScaler()\n",
    "X_train_scaled= s.fit_transform(X_train)\n",
    "\n",
    "\n",
    "lr = LinearRegression()\n",
    "lr.fit(X_train_scaled, y_train)\n",
    "lr.score(X_train_scaled,y_train)"
   ]
  },
  {
   "cell_type": "code",
   "execution_count": 48,
   "metadata": {},
   "outputs": [
    {
     "data": {
      "text/plain": [
       "0.4014459190466627"
      ]
     },
     "execution_count": 48,
     "metadata": {},
     "output_type": "execute_result"
    }
   ],
   "source": [
    "# this is how you scale the test dataset\n",
    "X_test_Scaled = s.transform(X_test)\n",
    "lr.score(X_test_Scaled,y_test)\n"
   ]
  },
  {
   "cell_type": "code",
   "execution_count": 49,
   "metadata": {},
   "outputs": [
    {
     "data": {
      "text/plain": [
       "9.114243323442134"
      ]
     },
     "execution_count": 49,
     "metadata": {},
     "output_type": "execute_result"
    }
   ],
   "source": [
    "lr.intercept_"
   ]
  },
  {
   "cell_type": "code",
   "execution_count": 50,
   "metadata": {},
   "outputs": [
    {
     "data": {
      "text/plain": [
       "[('Age', -1.0863279252150124),\n",
       " ('HR', 5.525523963163893),\n",
       " ('G', -2.130193876836796),\n",
       " ('PA', -28.517299446291528),\n",
       " ('AB', 24.49303860088043),\n",
       " ('R', -2.3593441910120467),\n",
       " ('H', 2.5225688403471005),\n",
       " ('D', 0.7057562293910898),\n",
       " ('T', 0.09080706287366606),\n",
       " ('RBI', 3.2447814626829903),\n",
       " ('BB', 4.496046724791682),\n",
       " ('SO', 0.8150428805305757),\n",
       " ('GDP', 0.1524557645561667),\n",
       " ('SF', -0.07845602368083324),\n",
       " ('IBB', -0.5387267058640876)]"
      ]
     },
     "execution_count": 50,
     "metadata": {},
     "output_type": "execute_result"
    }
   ],
   "source": [
    "list(zip(test_features,lr.coef_))"
   ]
  },
  {
   "cell_type": "markdown",
   "metadata": {},
   "source": [
    "# Feature Engineering #"
   ]
  },
  {
   "cell_type": "code",
   "execution_count": 51,
   "metadata": {},
   "outputs": [],
   "source": [
    "X2_train = pinstripes_clean_tr[['Age','HR','G','PA','AB','R','H','D','T','RBI','BB','SO','GDP','SF','IBB']].copy()\n",
    "\n",
    "X2_train['HR2'] = X2_train['HR']**2\n",
    "X2_train['BB2'] = X2_train['BB']**2 \n",
    "X2_train['H2']  = X2_train['H']**2\n",
    "X2_train['PA2'] = X2_train['PA']**.5\n",
    "\n",
    "lrx2 = LinearRegression()\n",
    "\n",
    "\n"
   ]
  },
  {
   "cell_type": "code",
   "execution_count": 52,
   "metadata": {},
   "outputs": [
    {
     "data": {
      "text/plain": [
       "Index(['Age', 'HR', 'G', 'PA', 'AB', 'R', 'H', 'D', 'T', 'RBI', 'BB', 'SO',\n",
       "       'GDP', 'SF', 'IBB', 'HR2', 'BB2', 'H2', 'PA2'],\n",
       "      dtype='object')"
      ]
     },
     "execution_count": 52,
     "metadata": {},
     "output_type": "execute_result"
    }
   ],
   "source": [
    "X2_train.columns"
   ]
  },
  {
   "cell_type": "code",
   "execution_count": 53,
   "metadata": {},
   "outputs": [
    {
     "data": {
      "text/plain": [
       "0.5886570299232599"
      ]
     },
     "execution_count": 53,
     "metadata": {},
     "output_type": "execute_result"
    }
   ],
   "source": [
    "lrx2.fit(X2_train, y_train)\n",
    "lrx2.score(X2_train,y_train)"
   ]
  },
  {
   "cell_type": "code",
   "execution_count": 54,
   "metadata": {},
   "outputs": [],
   "source": [
    "X2_test = pinstripes_clean_test[['Age','HR','G','PA','AB','R','H','D','T','RBI','BB','SO','GDP','SF','IBB']].copy()\n",
    "\n",
    "X2_test['HR2'] = X2_test['HR']**2\n",
    "X2_test['BB2'] = X2_test['BB']**2\n",
    "X2_test['H2']  = X2_test['H']**2\n",
    "X2_test['PA2'] = X2_test['PA']**.5"
   ]
  },
  {
   "cell_type": "code",
   "execution_count": 55,
   "metadata": {},
   "outputs": [
    {
     "data": {
      "text/plain": [
       "Index(['Age', 'HR', 'G', 'PA', 'AB', 'R', 'H', 'D', 'T', 'RBI', 'BB', 'SO',\n",
       "       'GDP', 'SF', 'IBB', 'HR2', 'BB2', 'H2', 'PA2'],\n",
       "      dtype='object')"
      ]
     },
     "execution_count": 55,
     "metadata": {},
     "output_type": "execute_result"
    }
   ],
   "source": [
    "X2_test.columns"
   ]
  },
  {
   "cell_type": "markdown",
   "metadata": {},
   "source": [
    "# Best Model #"
   ]
  },
  {
   "cell_type": "code",
   "execution_count": 56,
   "metadata": {},
   "outputs": [
    {
     "data": {
      "text/plain": [
       "0.41816892636235503"
      ]
     },
     "execution_count": 56,
     "metadata": {},
     "output_type": "execute_result"
    }
   ],
   "source": [
    "lrx2.score(X2_test,y_test)"
   ]
  },
  {
   "cell_type": "markdown",
   "metadata": {},
   "source": [
    "# Final Product #"
   ]
  },
  {
   "cell_type": "code",
   "execution_count": 57,
   "metadata": {},
   "outputs": [],
   "source": [
    "Y2_hat = lrx2.predict(X2_test)"
   ]
  },
  {
   "cell_type": "code",
   "execution_count": 58,
   "metadata": {},
   "outputs": [
    {
     "data": {
      "text/plain": [
       "<matplotlib.axes._subplots.AxesSubplot at 0x7fa0251c8850>"
      ]
     },
     "execution_count": 58,
     "metadata": {},
     "output_type": "execute_result"
    },
    {
     "data": {
      "image/png": "[encoded data removed]",
      "text/plain": [
       "<Figure size 432x288 with 1 Axes>"
      ]
     },
     "metadata": {
      "needs_background": "light"
     },
     "output_type": "display_data"
    }
   ],
   "source": [
    "sns.scatterplot(y_test,Y_hat)"
   ]
  },
  {
   "cell_type": "code",
   "execution_count": 59,
   "metadata": {},
   "outputs": [
    {
     "data": {
      "text/plain": [
       "6.253476933137717"
      ]
     },
     "execution_count": 59,
     "metadata": {},
     "output_type": "execute_result"
    }
   ],
   "source": [
    "resid = Y_hat-y_test\n",
    "np.mean(abs(resid))"
   ]
  },
  {
   "cell_type": "code",
   "execution_count": 60,
   "metadata": {},
   "outputs": [
    {
     "data": {
      "text/plain": [
       "<matplotlib.axes._subplots.AxesSubplot at 0x7fa01f094350>"
      ]
     },
     "execution_count": 60,
     "metadata": {},
     "output_type": "execute_result"
    },
    {
     "data": {
      "image/png": "[encoded data removed]",
      "text/plain": [
       "<Figure size 432x288 with 1 Axes>"
      ]
     },
     "metadata": {
      "needs_background": "light"
     },
     "output_type": "display_data"
    }
   ],
   "source": [
    "sns.scatterplot(y_test,resid)"
   ]
  },
  {
   "cell_type": "markdown",
   "metadata": {},
   "source": [
    "# Regularization did not help#"
   ]
  },
  {
   "cell_type": "code",
   "execution_count": 63,
   "metadata": {},
   "outputs": [],
   "source": [
    "from sklearn.linear_model import LassoCV\n",
    "from sklearn.linear_model import RidgeCV\n",
    "from sklearn.preprocessing import PolynomialFeatures"
   ]
  },
  {
   "cell_type": "code",
   "execution_count": 64,
   "metadata": {
    "scrolled": false
   },
   "outputs": [
    {
     "data": {
      "text/plain": [
       "0.6514784737284101"
      ]
     },
     "execution_count": 64,
     "metadata": {},
     "output_type": "execute_result"
    }
   ],
   "source": [
    "m = RidgeCV()\n",
    "p = PolynomialFeatures(degree=2)\n",
    "m.fit(p.fit_transform(X_train_scaled),y_train)\n",
    "m.score(p.transform(X_train_scaled),y_train)"
   ]
  },
  {
   "cell_type": "code",
   "execution_count": 65,
   "metadata": {},
   "outputs": [
    {
     "data": {
      "text/plain": [
       "0.30072823943008453"
      ]
     },
     "execution_count": 65,
     "metadata": {},
     "output_type": "execute_result"
    }
   ],
   "source": [
    "\n",
    "m.score(p.transform(X_test_Scaled),y_test)"
   ]
  },
  {
   "cell_type": "code",
   "execution_count": 66,
   "metadata": {},
   "outputs": [
    {
     "data": {
      "text/plain": [
       "0.6792732383134212"
      ]
     },
     "execution_count": 66,
     "metadata": {},
     "output_type": "execute_result"
    }
   ],
   "source": [
    "from sklearn.preprocessing import PolynomialFeatures\n",
    "p = PolynomialFeatures(degree=2)\n",
    "x_train_poly = p.fit_transform(X_train)\n",
    "lr.fit(x_train_poly,y_train)\n",
    "lr.score(x_train_poly,y_train)"
   ]
  },
  {
   "cell_type": "code",
   "execution_count": 67,
   "metadata": {
    "scrolled": true
   },
   "outputs": [
    {
     "data": {
      "text/plain": [
       "Text(0.5, 1.0, 'Hits feature v Target ')"
      ]
     },
     "execution_count": 67,
     "metadata": {},
     "output_type": "execute_result"
    },
    {
     "data": {
      "image/png": "[encoded data removed]",
      "text/plain": [
       "<Figure size 432x288 with 1 Axes>"
      ]
     },
     "metadata": {
      "needs_background": "light"
     },
     "output_type": "display_data"
    }
   ],
   "source": [
    "plt.scatter(pinstripes_clean_tr['SO'],y_train)\n",
    "plt.xlabel('Strikeouts')\n",
    "plt.ylabel('Homerun Predictions')\n",
    "plt.title(\"Hits feature v Target \")\n",
    "\n"
   ]
  },
  {
   "cell_type": "code",
   "execution_count": 68,
   "metadata": {},
   "outputs": [
    {
     "data": {
      "image/png": "[encoded data removed]",
      "text/plain": [
       "<Figure size 1440x720 with 2 Axes>"
      ]
     },
     "metadata": {
      "needs_background": "light"
     },
     "output_type": "display_data"
    }
   ],
   "source": [
    "pincorr = pinstripes_clean_tr.corr()\n",
    "mask_3 = np.zeros_like(pincorr, dtype=np.bool)\n",
    "mask_3[np.triu_indices_from(mask_3)] = True\n",
    "\n",
    "\n",
    "plt.figure(figsize=(20,10))\n",
    "sns.heatmap(pinstripes_clean_tr.corr(),mask = mask_3, cmap=\"coolwarm\", annot=True, vmin=-1, vmax=1);"
   ]
  },
  {
   "cell_type": "code",
   "execution_count": null,
   "metadata": {},
   "outputs": [],
   "source": [
    "driver = webdriver.Chrome(chromedriver)\n",
    "driver.get()"
   ]
  },
  {
   "cell_type": "code",
   "execution_count": null,
   "metadata": {},
   "outputs": [],
   "source": [
    "driver.page_source[:1000]"
   ]
  },
  {
   "cell_type": "code",
   "execution_count": null,
   "metadata": {},
   "outputs": [],
   "source": [
    "driver.quit()"
   ]
  },
  {
   "cell_type": "code",
   "execution_count": null,
   "metadata": {},
   "outputs": [],
   "source": [
    "\n",
    "caldo_feo = BeautifulSoup(driver.page_source, 'html.parser')\n"
   ]
  },
  {
   "cell_type": "code",
   "execution_count": null,
   "metadata": {},
   "outputs": [],
   "source": [
    "table = caldo_feo.body.find('table', id= 'team_batting').find('tbody')\n",
    "table\n",
    "rows = [row for row in table.find_all('tr')]\n",
    "rows\n",
    "\n",
    "\n",
    "\n",
    "\n",
    "#div_id_all_team_batting = body.find('div',id='all_team_batting')"
   ]
  }
 ],
 "metadata": {
  "kernelspec": {
   "display_name": "Python 3",
   "language": "python",
   "name": "python3"
  },
  "language_info": {
   "codemirror_mode": {
    "name": "ipython",
    "version": 3
   },
   "file_extension": ".py",
   "mimetype": "text/x-python",
   "name": "python",
   "nbconvert_exporter": "python",
   "pygments_lexer": "ipython3",
   "version": "3.7.6"
  }
 },
 "nbformat": 4,
 "nbformat_minor": 4
}
