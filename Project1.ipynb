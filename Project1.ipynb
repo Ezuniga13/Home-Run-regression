{
 "cells": [
  {
   "cell_type": "code",
   "execution_count": 27,
   "metadata": {},
   "outputs": [],
   "source": [
    "import pandas as pd"
   ]
  },
  {
   "cell_type": "code",
   "execution_count": 28,
   "metadata": {},
   "outputs": [],
   "source": [
    "feb_1 = pd.read_csv('http://web.mta.info/developers/data/nyct/turnstile/turnstile_200201.txt')"
   ]
  },
  {
   "cell_type": "code",
   "execution_count": 29,
   "metadata": {},
   "outputs": [],
   "source": [
    "feb_8 = pd.read_csv('http://web.mta.info/developers/data/nyct/turnstile/turnstile_200208.txt')"
   ]
  },
  {
   "cell_type": "code",
   "execution_count": 30,
   "metadata": {},
   "outputs": [],
   "source": [
    "feb_15 = pd.read_csv('http://web.mta.info/developers/data/nyct/turnstile/turnstile_200215.txt')"
   ]
  },
  {
   "cell_type": "code",
   "execution_count": 31,
   "metadata": {},
   "outputs": [],
   "source": [
    "feb_22 = pd.read_csv('http://web.mta.info/developers/data/nyct/turnstile/turnstile_200222.txt')"
   ]
  },
  {
   "cell_type": "code",
   "execution_count": 32,
   "metadata": {},
   "outputs": [],
   "source": [
    "feb_29 = pd.read_csv('http://web.mta.info/developers/data/nyct/turnstile/turnstile_200229.txt')\n"
   ]
  },
  {
   "cell_type": "code",
   "execution_count": 33,
   "metadata": {},
   "outputs": [],
   "source": [
    "mar_07 = pd.read_csv('http://web.mta.info/developers/data/nyct/turnstile/turnstile_200307.txt')"
   ]
  },
  {
   "cell_type": "code",
   "execution_count": 34,
   "metadata": {},
   "outputs": [],
   "source": [
    "mar_15 = pd.read_csv('http://web.mta.info/developers/data/nyct/turnstile/turnstile_200314.txt')"
   ]
  },
  {
   "cell_type": "code",
   "execution_count": 35,
   "metadata": {},
   "outputs": [],
   "source": [
    "mar_21 = pd.read_csv('http://web.mta.info/developers/data/nyct/turnstile/turnstile_200321.txt')"
   ]
  },
  {
   "cell_type": "code",
   "execution_count": 36,
   "metadata": {},
   "outputs": [],
   "source": [
    "mar_28 = pd.read_csv('http://web.mta.info/developers/data/nyct/turnstile/turnstile_200328.txt')"
   ]
  },
  {
   "cell_type": "code",
   "execution_count": 37,
   "metadata": {},
   "outputs": [],
   "source": [
    "apr_4  = pd.read_csv('http://web.mta.info/developers/data/nyct/turnstile/turnstile_200404.txt')"
   ]
  },
  {
   "cell_type": "code",
   "execution_count": 38,
   "metadata": {},
   "outputs": [],
   "source": [
    "apr_11 = pd.read_csv('http://web.mta.info/developers/data/nyct/turnstile/turnstile_200411.txt')\n",
    "apr_18 = pd.read_csv('http://web.mta.info/developers/data/nyct/turnstile/turnstile_200418.txt')\n",
    "apr_25 = pd.read_csv('http://web.mta.info/developers/data/nyct/turnstile/turnstile_200425.txt')"
   ]
  },
  {
   "cell_type": "code",
   "execution_count": 42,
   "metadata": {},
   "outputs": [
    {
     "ename": "NameError",
     "evalue": "name 'all_weeks' is not defined",
     "output_type": "error",
     "traceback": [
      "\u001b[0;31m---------------------------------------------------------------------------\u001b[0m",
      "\u001b[0;31mNameError\u001b[0m                                 Traceback (most recent call last)",
      "\u001b[0;32m<ipython-input-42-5c99635ff574>\u001b[0m in \u001b[0;36m<module>\u001b[0;34m\u001b[0m\n\u001b[1;32m      1\u001b[0m \u001b[0mweek_12_data\u001b[0m \u001b[0;34m=\u001b[0m \u001b[0;34m(\u001b[0m\u001b[0mfeb_1\u001b[0m\u001b[0;34m,\u001b[0m\u001b[0mfeb_8\u001b[0m\u001b[0;34m,\u001b[0m\u001b[0mfeb_15\u001b[0m\u001b[0;34m,\u001b[0m\u001b[0mfeb_22\u001b[0m\u001b[0;34m,\u001b[0m\u001b[0mfeb_29\u001b[0m\u001b[0;34m,\u001b[0m\u001b[0mmar_07\u001b[0m\u001b[0;34m,\u001b[0m\u001b[0mmar_15\u001b[0m\u001b[0;34m,\u001b[0m\u001b[0mmar_21\u001b[0m\u001b[0;34m,\u001b[0m\u001b[0mmar_28\u001b[0m\u001b[0;34m,\u001b[0m\u001b[0mapr_4\u001b[0m\u001b[0;34m,\u001b[0m\u001b[0mapr_11\u001b[0m\u001b[0;34m,\u001b[0m\u001b[0mapr_18\u001b[0m\u001b[0;34m,\u001b[0m\u001b[0mapr_25\u001b[0m\u001b[0;34m)\u001b[0m\u001b[0;34m\u001b[0m\u001b[0;34m\u001b[0m\u001b[0m\n\u001b[0;32m----> 2\u001b[0;31m \u001b[0mall_weeks\u001b[0m\u001b[0;34m.\u001b[0m\u001b[0mconcat\u001b[0m\u001b[0;34m(\u001b[0m\u001b[0mweek_12_data\u001b[0m\u001b[0;34m)\u001b[0m\u001b[0;34m\u001b[0m\u001b[0;34m\u001b[0m\u001b[0m\n\u001b[0m",
      "\u001b[0;31mNameError\u001b[0m: name 'all_weeks' is not defined"
     ]
    }
   ],
   "source": [
    "week_12_data = (feb_1,feb_8,feb_15,feb_22,feb_29,mar_07,mar_15,mar_21,mar_28,apr_4,apr_11,apr_18,apr_25)\n",
    "all_weeks.concat(week_12_data)"
   ]
  },
  {
   "cell_type": "code",
   "execution_count": null,
   "metadata": {},
   "outputs": [],
   "source": []
  }
 ],
 "metadata": {
  "kernelspec": {
   "display_name": "Python 3",
   "language": "python",
   "name": "python3"
  },
  "language_info": {
   "codemirror_mode": {
    "name": "ipython",
    "version": 3
   },
   "file_extension": ".py",
   "mimetype": "text/x-python",
   "name": "python",
   "nbconvert_exporter": "python",
   "pygments_lexer": "ipython3",
   "version": "3.7.6"
  }
 },
 "nbformat": 4,
 "nbformat_minor": 4
}
